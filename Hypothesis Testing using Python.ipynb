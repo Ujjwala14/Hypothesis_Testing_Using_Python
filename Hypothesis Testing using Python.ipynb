{
 "cells": [
  {
   "cell_type": "markdown",
   "id": "019f97b7-a441-47d8-b9de-894f0ec79afa",
   "metadata": {},
   "source": [
    "Hypothesis Testing using Python\n",
    "Hypothesis Testing is a statistical method used to make inferences or decisions about a population based on sample data. It starts with a null hypothesis (H0), which represents a default stance or no effect, and an alternative hypothesis (H1 or Ha), which represents what we aim to prove or expect to find. The process involves using sample data to determine whether to reject the null hypothesis in favor of the alternative hypothesis, based on the likelihood of observing the sample data under the null hypothesis"
   ]
  },
  {
   "cell_type": "code",
   "execution_count": 3,
   "id": "321d7a2d-6e77-48b5-afb0-a3c0d84fddba",
   "metadata": {},
   "outputs": [
    {
     "name": "stdout",
     "output_type": "stream",
     "text": [
      "         Theme  Click Through Rate  Conversion Rate  Bounce Rate  \\\n",
      "0  Light Theme            0.054920         0.282367     0.405085   \n",
      "1  Light Theme            0.113932         0.032973     0.732759   \n",
      "2   Dark Theme            0.323352         0.178763     0.296543   \n",
      "3  Light Theme            0.485836         0.325225     0.245001   \n",
      "4  Light Theme            0.034783         0.196766     0.765100   \n",
      "\n",
      "   Scroll_Depth  Age   Location  Session_Duration Purchases Added_to_Cart  \n",
      "0     72.489458   25    Chennai              1535        No           Yes  \n",
      "1     61.858568   19       Pune               303        No           Yes  \n",
      "2     45.737376   47    Chennai               563       Yes           Yes  \n",
      "3     76.305298   58       Pune               385       Yes            No  \n",
      "4     48.927407   25  New Delhi              1437        No            No  \n"
     ]
    }
   ],
   "source": [
    "import pandas as pd\n",
    "from scipy.stats import ttest_ind\n",
    "\n",
    "df = pd.read_csv(\"website_ab_test.csv\")\n",
    "\n",
    "print(df.head())"
   ]
  },
  {
   "cell_type": "code",
   "execution_count": 4,
   "id": "34083221-73a4-45bf-b467-12555d8eee79",
   "metadata": {},
   "outputs": [
    {
     "data": {
      "text/plain": [
       "<bound method NDFrame.head of            Theme  Click Through Rate  Conversion Rate  Bounce Rate  \\\n",
       "0    Light Theme            0.054920         0.282367     0.405085   \n",
       "1    Light Theme            0.113932         0.032973     0.732759   \n",
       "2     Dark Theme            0.323352         0.178763     0.296543   \n",
       "3    Light Theme            0.485836         0.325225     0.245001   \n",
       "4    Light Theme            0.034783         0.196766     0.765100   \n",
       "..           ...                 ...              ...          ...   \n",
       "995   Dark Theme            0.282792         0.401605     0.200720   \n",
       "996   Dark Theme            0.299917         0.026372     0.762641   \n",
       "997  Light Theme            0.370254         0.019838     0.607136   \n",
       "998  Light Theme            0.095815         0.137953     0.458898   \n",
       "999   Dark Theme            0.342588         0.061315     0.452410   \n",
       "\n",
       "     Scroll_Depth  Age   Location  Session_Duration Purchases Added_to_Cart  \n",
       "0       72.489458   25    Chennai              1535        No           Yes  \n",
       "1       61.858568   19       Pune               303        No           Yes  \n",
       "2       45.737376   47    Chennai               563       Yes           Yes  \n",
       "3       76.305298   58       Pune               385       Yes            No  \n",
       "4       48.927407   25  New Delhi              1437        No            No  \n",
       "..            ...  ...        ...               ...       ...           ...  \n",
       "995     68.478822   25    Kolkata               321       Yes           Yes  \n",
       "996     73.019821   38    Chennai              1635       Yes           Yes  \n",
       "997     33.963298   32  Bangalore              1237        No           Yes  \n",
       "998     37.429284   24    Chennai               893       Yes            No  \n",
       "999     31.613326   33    Chennai               129       Yes           Yes  \n",
       "\n",
       "[1000 rows x 10 columns]>"
      ]
     },
     "execution_count": 4,
     "metadata": {},
     "output_type": "execute_result"
    }
   ],
   "source": [
    "df.head"
   ]
  },
  {
   "cell_type": "code",
   "execution_count": 5,
   "id": "e22b66dc-57b5-4585-bf54-fd382b078198",
   "metadata": {},
   "outputs": [
    {
     "data": {
      "text/plain": [
       "(1000, 10)"
      ]
     },
     "execution_count": 5,
     "metadata": {},
     "output_type": "execute_result"
    }
   ],
   "source": [
    "df.shape"
   ]
  },
  {
   "cell_type": "code",
   "execution_count": 6,
   "id": "d5afdfa7-6414-441e-b64b-c4859bbd6952",
   "metadata": {},
   "outputs": [
    {
     "data": {
      "text/plain": [
       "Theme                 0\n",
       "Click Through Rate    0\n",
       "Conversion Rate       0\n",
       "Bounce Rate           0\n",
       "Scroll_Depth          0\n",
       "Age                   0\n",
       "Location              0\n",
       "Session_Duration      0\n",
       "Purchases             0\n",
       "Added_to_Cart         0\n",
       "dtype: int64"
      ]
     },
     "execution_count": 6,
     "metadata": {},
     "output_type": "execute_result"
    }
   ],
   "source": [
    "df.isnull().sum()"
   ]
  },
  {
   "cell_type": "code",
   "execution_count": 7,
   "id": "47c9683b-4787-465f-99d0-ba273ea66e13",
   "metadata": {},
   "outputs": [
    {
     "data": {
      "text/html": [
       "<div>\n",
       "<style scoped>\n",
       "    .dataframe tbody tr th:only-of-type {\n",
       "        vertical-align: middle;\n",
       "    }\n",
       "\n",
       "    .dataframe tbody tr th {\n",
       "        vertical-align: top;\n",
       "    }\n",
       "\n",
       "    .dataframe thead th {\n",
       "        text-align: right;\n",
       "    }\n",
       "</style>\n",
       "<table border=\"1\" class=\"dataframe\">\n",
       "  <thead>\n",
       "    <tr style=\"text-align: right;\">\n",
       "      <th></th>\n",
       "      <th>Click Through Rate</th>\n",
       "      <th>Conversion Rate</th>\n",
       "      <th>Bounce Rate</th>\n",
       "      <th>Scroll_Depth</th>\n",
       "      <th>Age</th>\n",
       "      <th>Session_Duration</th>\n",
       "    </tr>\n",
       "  </thead>\n",
       "  <tbody>\n",
       "    <tr>\n",
       "      <th>count</th>\n",
       "      <td>1000.000000</td>\n",
       "      <td>1000.000000</td>\n",
       "      <td>1000.000000</td>\n",
       "      <td>1000.000000</td>\n",
       "      <td>1000.000000</td>\n",
       "      <td>1000.000000</td>\n",
       "    </tr>\n",
       "    <tr>\n",
       "      <th>mean</th>\n",
       "      <td>0.256048</td>\n",
       "      <td>0.253312</td>\n",
       "      <td>0.505758</td>\n",
       "      <td>50.319494</td>\n",
       "      <td>41.528000</td>\n",
       "      <td>924.999000</td>\n",
       "    </tr>\n",
       "    <tr>\n",
       "      <th>std</th>\n",
       "      <td>0.139265</td>\n",
       "      <td>0.139092</td>\n",
       "      <td>0.172195</td>\n",
       "      <td>16.895269</td>\n",
       "      <td>14.114334</td>\n",
       "      <td>508.231723</td>\n",
       "    </tr>\n",
       "    <tr>\n",
       "      <th>min</th>\n",
       "      <td>0.010767</td>\n",
       "      <td>0.010881</td>\n",
       "      <td>0.200720</td>\n",
       "      <td>20.011738</td>\n",
       "      <td>18.000000</td>\n",
       "      <td>38.000000</td>\n",
       "    </tr>\n",
       "    <tr>\n",
       "      <th>25%</th>\n",
       "      <td>0.140794</td>\n",
       "      <td>0.131564</td>\n",
       "      <td>0.353609</td>\n",
       "      <td>35.655167</td>\n",
       "      <td>29.000000</td>\n",
       "      <td>466.500000</td>\n",
       "    </tr>\n",
       "    <tr>\n",
       "      <th>50%</th>\n",
       "      <td>0.253715</td>\n",
       "      <td>0.252823</td>\n",
       "      <td>0.514049</td>\n",
       "      <td>51.130712</td>\n",
       "      <td>42.000000</td>\n",
       "      <td>931.000000</td>\n",
       "    </tr>\n",
       "    <tr>\n",
       "      <th>75%</th>\n",
       "      <td>0.370674</td>\n",
       "      <td>0.373040</td>\n",
       "      <td>0.648557</td>\n",
       "      <td>64.666258</td>\n",
       "      <td>54.000000</td>\n",
       "      <td>1375.250000</td>\n",
       "    </tr>\n",
       "    <tr>\n",
       "      <th>max</th>\n",
       "      <td>0.499989</td>\n",
       "      <td>0.498916</td>\n",
       "      <td>0.799658</td>\n",
       "      <td>79.997108</td>\n",
       "      <td>65.000000</td>\n",
       "      <td>1797.000000</td>\n",
       "    </tr>\n",
       "  </tbody>\n",
       "</table>\n",
       "</div>"
      ],
      "text/plain": [
       "       Click Through Rate  Conversion Rate  Bounce Rate  Scroll_Depth  \\\n",
       "count         1000.000000      1000.000000  1000.000000   1000.000000   \n",
       "mean             0.256048         0.253312     0.505758     50.319494   \n",
       "std              0.139265         0.139092     0.172195     16.895269   \n",
       "min              0.010767         0.010881     0.200720     20.011738   \n",
       "25%              0.140794         0.131564     0.353609     35.655167   \n",
       "50%              0.253715         0.252823     0.514049     51.130712   \n",
       "75%              0.370674         0.373040     0.648557     64.666258   \n",
       "max              0.499989         0.498916     0.799658     79.997108   \n",
       "\n",
       "               Age  Session_Duration  \n",
       "count  1000.000000       1000.000000  \n",
       "mean     41.528000        924.999000  \n",
       "std      14.114334        508.231723  \n",
       "min      18.000000         38.000000  \n",
       "25%      29.000000        466.500000  \n",
       "50%      42.000000        931.000000  \n",
       "75%      54.000000       1375.250000  \n",
       "max      65.000000       1797.000000  "
      ]
     },
     "execution_count": 7,
     "metadata": {},
     "output_type": "execute_result"
    }
   ],
   "source": [
    "df.describe()"
   ]
  },
  {
   "cell_type": "code",
   "execution_count": 8,
   "id": "fcd30f46-e15d-4e70-ab56-1999b6f66d29",
   "metadata": {},
   "outputs": [
    {
     "data": {
      "text/plain": [
       "(np.float64(0.4748494462782632), np.float64(0.6349982678451778))"
      ]
     },
     "execution_count": 8,
     "metadata": {},
     "output_type": "execute_result"
    }
   ],
   "source": [
    "# extracting conversion rates for both themes\n",
    "conversion_rates_light = df[df['Theme'] == 'Light Theme']['Conversion Rate']\n",
    "conversion_rates_dark = df[df['Theme'] == 'Dark Theme']['Conversion Rate']\n",
    "\n",
    "# performing a two-sample t-test\n",
    "t_stat, p_value = ttest_ind(conversion_rates_light, conversion_rates_dark, equal_var=False)\n",
    "\n",
    "t_stat, p_value"
   ]
  },
  {
   "cell_type": "code",
   "execution_count": 9,
   "id": "2c568395-cbda-41fb-8183-f6ada2c01694",
   "metadata": {},
   "outputs": [
    {
     "data": {
      "text/plain": [
       "(np.float64(-1.9781708664172253), np.float64(0.04818435371010704))"
      ]
     },
     "execution_count": 9,
     "metadata": {},
     "output_type": "execute_result"
    }
   ],
   "source": [
    "# extracting click through rates for both themes\n",
    "ctr_light = df[df['Theme'] == 'Light Theme']['Click Through Rate']\n",
    "ctr_dark = df[df['Theme'] == 'Dark Theme']['Click Through Rate']\n",
    "\n",
    "# performing a two-sample t-test\n",
    "t_stat_ctr, p_value_ctr = ttest_ind(ctr_light, ctr_dark, equal_var=False)\n",
    "\n",
    "t_stat_ctr, p_value_ctr"
   ]
  },
  {
   "cell_type": "code",
   "execution_count": 10,
   "id": "22416118-9b6c-4cf4-8c9d-473c2ef7c4ef",
   "metadata": {},
   "outputs": [
    {
     "data": {
      "text/plain": [
       "(np.float64(-1.2018883310494073), np.float64(0.229692077505148))"
      ]
     },
     "execution_count": 10,
     "metadata": {},
     "output_type": "execute_result"
    }
   ],
   "source": [
    "# extracting bounce rates for both themes\n",
    "bounce_rates_light = df[df['Theme'] == 'Light Theme']['Bounce Rate']\n",
    "bounce_rates_dark = df[df['Theme'] == 'Dark Theme']['Bounce Rate']\n",
    "\n",
    "# performing a two-sample t-test for bounce rate\n",
    "t_stat_bounce, p_value_bounce = ttest_ind(bounce_rates_light, bounce_rates_dark, equal_var=False)\n",
    "\n",
    "t_stat_bounce, p_value_bounce "
   ]
  },
  {
   "cell_type": "code",
   "execution_count": 11,
   "id": "6ff37ead-e996-4ad7-b3fe-c5a8ef5b54e1",
   "metadata": {},
   "outputs": [
    {
     "data": {
      "text/plain": [
       "(np.float64(0.7562277864140986), np.float64(0.4496919249484911))"
      ]
     },
     "execution_count": 11,
     "metadata": {},
     "output_type": "execute_result"
    }
   ],
   "source": [
    "# extracting scroll depths for both themes\n",
    "scroll_depth_light = df[df['Theme'] == 'Light Theme']['Scroll_Depth']\n",
    "scroll_depth_dark = df[df['Theme'] == 'Dark Theme']['Scroll_Depth']\n",
    "\n",
    "# performing a two-sample t-test for scroll depth\n",
    "t_stat_scroll, p_value_scroll = ttest_ind(scroll_depth_light, scroll_depth_dark, equal_var=False)\n",
    "\n",
    "t_stat_scroll, p_value_scroll"
   ]
  },
  {
   "cell_type": "code",
   "execution_count": 12,
   "id": "bd425560-27a1-44d3-9968-eedabee8be09",
   "metadata": {},
   "outputs": [
    {
     "data": {
      "text/html": [
       "<div>\n",
       "<style scoped>\n",
       "    .dataframe tbody tr th:only-of-type {\n",
       "        vertical-align: middle;\n",
       "    }\n",
       "\n",
       "    .dataframe tbody tr th {\n",
       "        vertical-align: top;\n",
       "    }\n",
       "\n",
       "    .dataframe thead th {\n",
       "        text-align: right;\n",
       "    }\n",
       "</style>\n",
       "<table border=\"1\" class=\"dataframe\">\n",
       "  <thead>\n",
       "    <tr style=\"text-align: right;\">\n",
       "      <th></th>\n",
       "      <th>Metric</th>\n",
       "      <th>T-Statistic</th>\n",
       "      <th>P-Value</th>\n",
       "    </tr>\n",
       "  </thead>\n",
       "  <tbody>\n",
       "    <tr>\n",
       "      <th>0</th>\n",
       "      <td>Click Through Rate</td>\n",
       "      <td>-1.978171</td>\n",
       "      <td>0.048184</td>\n",
       "    </tr>\n",
       "    <tr>\n",
       "      <th>1</th>\n",
       "      <td>Conversion Rate</td>\n",
       "      <td>0.474849</td>\n",
       "      <td>0.634998</td>\n",
       "    </tr>\n",
       "    <tr>\n",
       "      <th>2</th>\n",
       "      <td>Bounce Rate</td>\n",
       "      <td>-1.201888</td>\n",
       "      <td>0.229692</td>\n",
       "    </tr>\n",
       "    <tr>\n",
       "      <th>3</th>\n",
       "      <td>Scroll Depth</td>\n",
       "      <td>0.756228</td>\n",
       "      <td>0.449692</td>\n",
       "    </tr>\n",
       "  </tbody>\n",
       "</table>\n",
       "</div>"
      ],
      "text/plain": [
       "               Metric  T-Statistic   P-Value\n",
       "0  Click Through Rate    -1.978171  0.048184\n",
       "1     Conversion Rate     0.474849  0.634998\n",
       "2         Bounce Rate    -1.201888  0.229692\n",
       "3        Scroll Depth     0.756228  0.449692"
      ]
     },
     "execution_count": 12,
     "metadata": {},
     "output_type": "execute_result"
    }
   ],
   "source": [
    "# creating a table for comparison\n",
    "comparison_table = pd.DataFrame({\n",
    "    'Metric': ['Click Through Rate', 'Conversion Rate', 'Bounce Rate', 'Scroll Depth'],\n",
    "    'T-Statistic': [t_stat_ctr, t_stat, t_stat_bounce, t_stat_scroll],\n",
    "    'P-Value': [p_value_ctr, p_value, p_value_bounce, p_value_scroll]\n",
    "})\n",
    "\n",
    "comparison_table"
   ]
  },
  {
   "cell_type": "raw",
   "id": "131ff9c3-b431-41d6-8856-35131dbcf55c",
   "metadata": {},
   "source": [
    "Click Through Rate: The test reveals a statistically significant difference, with the Dark Theme likely performing better (P-Value = 0.048).\n",
    "Conversion Rate: No statistically significant difference was found (P-Value = 0.635).\n",
    "Bounce Rate: There’s no statistically significant difference in Bounce Rates between the themes (P-Value = 0.230).\n",
    "Scroll Depth: Similarly, no statistically significant difference is observed in Scroll Depths (P-Value = 0.450).\n",
    "\n",
    "In summary, while the two themes perform similarly across most metrics, the Dark Theme has a slight edge in terms of engaging users to click through. For other key performance indicators like Conversion Rate, Bounce Rate, and Scroll Depth, the choice between a Light Theme and a Dark Theme does not significantly affect user behaviour according to the data provided."
   ]
  },
  {
   "cell_type": "code",
   "execution_count": null,
   "id": "a8489259-4f69-4a08-a4dc-fb674c57d343",
   "metadata": {},
   "outputs": [],
   "source": []
  }
 ],
 "metadata": {
  "kernelspec": {
   "display_name": "ds1",
   "language": "python",
   "name": "python3"
  },
  "language_info": {
   "codemirror_mode": {
    "name": "ipython",
    "version": 3
   },
   "file_extension": ".py",
   "mimetype": "text/x-python",
   "name": "python",
   "nbconvert_exporter": "python",
   "pygments_lexer": "ipython3",
   "version": "3.11.10"
  }
 },
 "nbformat": 4,
 "nbformat_minor": 5
}
